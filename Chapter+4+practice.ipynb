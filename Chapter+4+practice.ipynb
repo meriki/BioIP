{
 "cells": [
  {
   "cell_type": "code",
   "execution_count": 51,
   "metadata": {
    "collapsed": true
   },
   "outputs": [],
   "source": [
    "import numpy as np\n",
    "from numpy import linalg as LA"
   ]
  },
  {
   "cell_type": "markdown",
   "metadata": {},
   "source": [
    "4.4\n",
    "3,4,6,18"
   ]
  },
  {
   "cell_type": "code",
   "execution_count": 109,
   "metadata": {},
   "outputs": [],
   "source": [
    "def jukes_cantor(alpha,ran,M=None):\n",
    "    a=alpha\n",
    "    b=a/3\n",
    "    if M is None:\n",
    "        M = np.array([[1-a,b,b,b],[b,1-a,b,b],[b,b,1-a,b],[b,b,b,1-a]])\n",
    "    p = np.array([[0.2,0.6,0.1,0.1]])\n",
    "    p = np.resize(p,(4,1))\n",
    "    P = p\n",
    "    for i in range(1,1000):\n",
    "        p = np.matmul(M,p)\n",
    "        P = np.hstack((P,p))\n",
    "        eq = np.array([0.25,0.25,0.25,0.25])\n",
    "        eq = np.resize(eq,(4,1))\n",
    "        if ran is not None:\n",
    "            if (p-eq <= ran).all():\n",
    "                break\n",
    "#     print(P.shape)\n",
    "    print(np.transpose(P)[-1:])\n",
    "    return i"
   ]
  },
  {
   "cell_type": "code",
   "execution_count": 110,
   "metadata": {},
   "outputs": [
    {
     "name": "stdout",
     "output_type": "stream",
     "text": [
      "[[ 0.24295324  0.29932729  0.22885973  0.22885973]]\n",
      "48\n",
      "[[ 0.2486233   0.25963688  0.24586991  0.24586991]]\n",
      "88\n",
      "[[ 0.24861373  0.25970386  0.2458412   0.2458412 ]]\n",
      "43\n"
     ]
    }
   ],
   "source": [
    "print(jukes_cantor(0.03,0.05))\n",
    "#27 time steps for value within 0.05 of eq\n",
    "print(jukes_cantor(0.03,0.01))\n",
    "#67 time steps for values within 0.01 of eq\n",
    "\n",
    "print(jukes_cantor(0.06,0.01)) \n",
    "#33 time steps for alpha within 0.01 of eq"
   ]
  },
  {
   "cell_type": "markdown",
   "metadata": {},
   "source": [
    "implies eq fastest for alpha=0.06 implies higher probability of mutation\n",
    "$$Yes, it does hold for other choices"
   ]
  },
  {
   "cell_type": "code",
   "execution_count": 103,
   "metadata": {},
   "outputs": [
    {
     "name": "stdout",
     "output_type": "stream",
     "text": [
      "[[ 0.24678556  0.25321444  0.25964333  0.24035667]]\n"
     ]
    },
    {
     "data": {
      "text/plain": [
       "10"
      ]
     },
     "execution_count": 103,
     "metadata": {},
     "output_type": "execute_result"
    }
   ],
   "source": [
    "M = np.array([[ 0.82,  0.06,  0.06,  0.06],\n",
    " [ 0.06 , 0.82,  0.06,  0.06],\n",
    " [ 0.06,  0.06,  0.82,  0.06],\n",
    " [ 0.06 , 0.06 , 0.06,  0.82]])\n",
    "jukes_cantor(0.18,0.01,M)"
   ]
  },
  {
   "cell_type": "code",
   "execution_count": 104,
   "metadata": {
    "collapsed": true
   },
   "outputs": [],
   "source": [
    "values, vectors = LA.eig(M)"
   ]
  },
  {
   "cell_type": "code",
   "execution_count": 105,
   "metadata": {},
   "outputs": [
    {
     "data": {
      "text/plain": [
       "(array([ 0.76,  1.  ,  0.76,  0.76]),\n",
       " array([[-0.8660254 ,  0.5       ,  0.46157715, -0.52364833],\n",
       "        [ 0.28867513,  0.5       ,  0.41762315, -0.31818363],\n",
       "        [ 0.28867513,  0.5       , -0.77578526,  0.05334892],\n",
       "        [ 0.28867513,  0.5       , -0.10341504,  0.78848304]]))"
      ]
     },
     "execution_count": 105,
     "metadata": {},
     "output_type": "execute_result"
    }
   ],
   "source": [
    "values,vectors"
   ]
  },
  {
   "cell_type": "code",
   "execution_count": 106,
   "metadata": {
    "scrolled": true
   },
   "outputs": [
    {
     "name": "stdout",
     "output_type": "stream",
     "text": [
      "[[ 0.24860032  0.25139968  0.25419904  0.24580096]]\n"
     ]
    },
    {
     "data": {
      "text/plain": [
       "7"
      ]
     },
     "execution_count": 106,
     "metadata": {},
     "output_type": "execute_result"
    }
   ],
   "source": [
    "M2 = np.array([[0.7,0.1,0.1,0.1],[0.1,0.7,0.1,0.1],[0.1,0.1,0.7,0.1],[0.1,0.1,0.1,0.7]])\n",
    "jukes_cantor(alpha=0.3,ran=0.005,M = M2)"
   ]
  },
  {
   "cell_type": "code",
   "execution_count": 108,
   "metadata": {},
   "outputs": [
    {
     "data": {
      "text/plain": [
       "array([[ 0.592,  0.136,  0.136,  0.136],\n",
       "       [ 0.136,  0.592,  0.136,  0.136],\n",
       "       [ 0.136,  0.136,  0.592,  0.136],\n",
       "       [ 0.136,  0.136,  0.136,  0.592]])"
      ]
     },
     "execution_count": 108,
     "metadata": {},
     "output_type": "execute_result"
    }
   ],
   "source": [
    "np.matmul(M,M2) #Here alpha3 0.408 ; a1 = 0.18, a2 = 0.3; a3 = a1+a2+4/3(a1*a2)"
   ]
  },
  {
   "cell_type": "code",
   "execution_count": null,
   "metadata": {
    "collapsed": true
   },
   "outputs": [],
   "source": []
  }
 ],
 "metadata": {
  "kernelspec": {
   "display_name": "Python 3",
   "language": "python",
   "name": "python3"
  },
  "language_info": {
   "codemirror_mode": {
    "name": "ipython",
    "version": 3
   },
   "file_extension": ".py",
   "mimetype": "text/x-python",
   "name": "python",
   "nbconvert_exporter": "python",
   "pygments_lexer": "ipython3",
   "version": "3.6.3"
  }
 },
 "nbformat": 4,
 "nbformat_minor": 2
}
